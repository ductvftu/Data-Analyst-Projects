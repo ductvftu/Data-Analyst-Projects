{
 "cells": [
  {
   "cell_type": "markdown",
   "metadata": {},
   "source": [
    "<h1 align=\"center\">Wrangle Report</h1>"
   ]
  },
  {
   "cell_type": "markdown",
   "metadata": {},
   "source": [
    "## Introduction:\n",
    "\n",
    "   This Wrange Report is a part of the Wrangle and Analyze data project which focus on document the effert on gathering, assessing and cleaning the dataset. The dataset is the tweet archive of Twitter user @dog_rates, also known as WeRateDogs. WeRateDogs is a Twitter account that rates people's dogs with a humorous comment about the dog.\n",
    "\n",
    "## Gathering data:\n",
    "\n",
    "   In my analysis, the data were collected from 3 differents soucers:\n",
    "\n",
    "- The WeRateDogs Twitter archive: It is a csv file on hand which was provided by udacity in order to complete this project. It was downloaded and loaded directly into Jupiter Notebook and stored inside a dataframe. It contains basic tweet data up to August 1 , 2017\n",
    "- The tweet image predictions. It is hosted on Udacity's servers and were downloaded programmatically using the Requests library. It give information about the predictions of the dogs included in the tweets\n",
    "- Twitter Json file: This can be downloaded using Twitter API and Tweepy, however, as i dont have a twitter account, i downloaded this file directly from Udacity website. \n",
    "\n",
    "## Assessing data:\n",
    "\n",
    "   After Gathering the data, i used both Visual assessment and Programmatic assessment to check for for quality and tidiness issues. This include opening the file in excel, sampling the file with head() and tail() in jupiter notebook to skim through the dataset. Also, to view the summary of the data, i used command like info, describe, value_counts,... I also tried to identify and make assumption on the reasons that created the issue, for example, the strange dog name \"a\" were mistaken when extracting from the text associated in the tweet. All the acts are include in details in my Wrangling Act file.\n",
    "   \n",
    "### Quality Issue\n",
    "#### Twitter Archive \n",
    "1. The value \"a\" in the dog name was likely a misunderstanding of the context. For example \"this is a dog\" and the algorithm mistaken it with the dog's name. So the value for those rows should be None instead\n",
    "\n",
    "2. in_reply_to_status_id, in_reply_to_user_id, retweeted_status_id, retweeted_status_user_id are float, should all be int\n",
    "\n",
    "3. timestamp is object datatype which represent a string with the weird +0000 in the end, should be datetime instead\n",
    "\n",
    "4. While rating numerator can exceed 10 as a way of saying or meme, rating denometor should only receive the value of 10, also both columns receive some strange values. \n",
    "\n",
    "5. Some rows that have the value of retweeted_status_id, retweeted_status_user_id is not null, which means these are retweets and the values in the columns other than tweet_id will be duplicated.\n",
    "\n",
    "6. The 'source' column still have the html tag inside it\n",
    "\n",
    "#### Twitter Json\n",
    "\n",
    "7. The dataset only have 2354 rows less than the tweet_archive 2 rows, which means there were 2 rows missing\n",
    "\n",
    "#### Image Prediction\n",
    "8. p1, p2 ,p3 arent consistent when it comes to the dog breed,some of them are not dogs\n",
    "\n",
    "### Tidiness Issue\n",
    "1. The last 4 column of twitter_archive can be merge into 1 column variables to give the same information\n",
    "2. The 3 dataset can be merge as they all use tweet_id as the primary key\n",
    "\n",
    "## Cleaning data:\n",
    "\n",
    "I've cleaned all the issues that are stated above. Each issue was defined following by cleaning by code and testing to make sure it had been resolved. The problems solved include : fix the datatype of some columns, eliminate unnecessary column, deleted retweets, delete record that are not dog predictions, delete strange values for rating, fixing strange dogs name, eliminate html tag in source column.\n",
    "\n",
    "After fixing all the problems, the clean fire is stored and merged into a master dataframe."
   ]
  }
 ],
 "metadata": {
  "kernelspec": {
   "display_name": "Python 3 (ipykernel)",
   "language": "python",
   "name": "python3"
  },
  "language_info": {
   "codemirror_mode": {
    "name": "ipython",
    "version": 3
   },
   "file_extension": ".py",
   "mimetype": "text/x-python",
   "name": "python",
   "nbconvert_exporter": "python",
   "pygments_lexer": "ipython3",
   "version": "3.9.7"
  }
 },
 "nbformat": 4,
 "nbformat_minor": 2
}
